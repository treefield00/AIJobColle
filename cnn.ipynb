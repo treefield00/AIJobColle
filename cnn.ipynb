{
  "nbformat": 4,
  "nbformat_minor": 0,
  "metadata": {
    "colab": {
      "provenance": [],
      "include_colab_link": true
    },
    "kernelspec": {
      "name": "python3",
      "display_name": "Python 3"
    },
    "accelerator": "GPU"
  },
  "cells": [
    {
      "cell_type": "markdown",
      "metadata": {
        "id": "view-in-github",
        "colab_type": "text"
      },
      "source": [
        "<a href=\"https://colab.research.google.com/github/treefield00/AIJobColle/blob/main/cnn.ipynb\" target=\"_parent\"><img src=\"https://colab.research.google.com/assets/colab-badge.svg\" alt=\"Open In Colab\"/></a>"
      ]
    },
    {
      "metadata": {
        "id": "Rxhdcx13dv5a",
        "colab": {
          "base_uri": "https://localhost:8080/",
          "height": 34
        },
        "outputId": "457bf550-a5e3-416b-e5d6-80bad2c129b7"
      },
      "cell_type": "code",
      "source": [
        "from keras.models import Sequential\n",
        "from keras.layers.convolutional import Conv2D\n",
        "from keras.layers.pooling import MaxPool2D\n",
        "from keras.optimizers import Adam\n",
        "\n",
        "from keras.layers.core import Dense, Activation, Dropout, Flatten\n",
        "from keras.utils import plot_model\n",
        "from keras.callbacks import TensorBoard\n",
        "\n",
        "from keras.datasets import cifar10\n",
        "from keras.utils import np_utils"
      ],
      "execution_count": null,
      "outputs": [
        {
          "output_type": "stream",
          "text": [
            "Using TensorFlow backend.\n"
          ],
          "name": "stderr"
        }
      ]
    },
    {
      "metadata": {
        "id": "GMBH-iM7eCTr",
        "colab": {
          "base_uri": "https://localhost:8080/",
          "height": 51
        },
        "outputId": "fb27e04c-747c-4a44-d670-4338ecc4fded"
      },
      "cell_type": "code",
      "source": [
        "(X_train, y_train),(X_test, y_test) = cifar10.load_data()\n"
      ],
      "execution_count": null,
      "outputs": [
        {
          "output_type": "stream",
          "text": [
            "Downloading data from https://www.cs.toronto.edu/~kriz/cifar-10-python.tar.gz\n",
            "170500096/170498071 [==============================] - 15s 0us/step\n"
          ],
          "name": "stdout"
        }
      ]
    },
    {
      "metadata": {
        "id": "AVvKcZ5GeG5l"
      },
      "cell_type": "code",
      "source": [
        "# floatに変換しておく\n",
        "X_train = X_train.astype('float32')\n",
        "X_test = X_test.astype('float32')\n",
        "\n",
        "# 正規化\n",
        "X_train /= 255.0\n",
        "X_test /= 255.0\n",
        "\n",
        "# one-hot vector に変換したほうが都合が良い\n",
        "n_classes = 10\n",
        "Y_train = np_utils.to_categorical(y_train, n_classes)\n",
        "Y_test = np_utils.to_categorical(y_test, n_classes)"
      ],
      "execution_count": null,
      "outputs": []
    },
    {
      "metadata": {
        "id": "lTwq050qedrJ",
        "colab": {
          "base_uri": "https://localhost:8080/",
          "height": 986
        },
        "outputId": "b3881f67-3d3e-4341-a9b5-483d9813a196"
      },
      "cell_type": "code",
      "source": [
        "# モデルの定義\n",
        "model = Sequential()\n",
        "\n",
        "model.add(Conv2D(32,(3,3), padding='same', input_shape=(32,32,3)))\n",
        "model.add(Activation('relu'))\n",
        "model.add(Conv2D(32,(3,3), padding='same'))\n",
        "model.add(Activation('relu'))\n",
        "model.add(Conv2D(32,(3,3), padding='same'))\n",
        "model.add(Activation('relu'))\n",
        "\n",
        "model.add(MaxPool2D(pool_size=(2,2)))\n",
        "\n",
        "model.add(Conv2D(64,(3,3), padding='same'))\n",
        "model.add(Activation('relu'))\n",
        "model.add(Conv2D(64,(3,3), padding='same'))\n",
        "model.add(Activation('relu'))\n",
        "model.add(Conv2D(64,(3,3), padding='same'))\n",
        "model.add(Activation('relu'))\n",
        "\n",
        "model.add(MaxPool2D(pool_size=(2,2)))\n",
        "\n",
        "model.add(Conv2D(128,(3,3), padding='same'))\n",
        "model.add(Activation('relu'))\n",
        "model.add(Conv2D(128,(3,3), padding='same'))\n",
        "model.add(Activation('relu'))\n",
        "model.add(Conv2D(128,(3,3), padding='same'))\n",
        "model.add(Activation('relu'))\n",
        "\n",
        "model.add(MaxPool2D(pool_size=(2,2)))\n",
        "\n",
        "\n",
        "model.add(Flatten())\n",
        "model.add(Dense(1024))\n",
        "model.add(Activation('relu'))\n",
        "\n",
        "model.add(Dense(n_classes, activation='softmax'))\n",
        "\n",
        "adam = Adam(lr=1e-3)\n",
        "\n",
        "model.compile(optimizer=adam, loss='categorical_crossentropy', metrics=[\"accuracy\"])\n",
        "\n",
        "model.summary()"
      ],
      "execution_count": null,
      "outputs": [
        {
          "output_type": "stream",
          "text": [
            "_________________________________________________________________\n",
            "Layer (type)                 Output Shape              Param #   \n",
            "=================================================================\n",
            "conv2d_22 (Conv2D)           (None, 32, 32, 32)        896       \n",
            "_________________________________________________________________\n",
            "activation_29 (Activation)   (None, 32, 32, 32)        0         \n",
            "_________________________________________________________________\n",
            "conv2d_23 (Conv2D)           (None, 32, 32, 32)        9248      \n",
            "_________________________________________________________________\n",
            "activation_30 (Activation)   (None, 32, 32, 32)        0         \n",
            "_________________________________________________________________\n",
            "conv2d_24 (Conv2D)           (None, 32, 32, 32)        9248      \n",
            "_________________________________________________________________\n",
            "activation_31 (Activation)   (None, 32, 32, 32)        0         \n",
            "_________________________________________________________________\n",
            "max_pooling2d_15 (MaxPooling (None, 16, 16, 32)        0         \n",
            "_________________________________________________________________\n",
            "conv2d_25 (Conv2D)           (None, 16, 16, 64)        18496     \n",
            "_________________________________________________________________\n",
            "activation_32 (Activation)   (None, 16, 16, 64)        0         \n",
            "_________________________________________________________________\n",
            "conv2d_26 (Conv2D)           (None, 16, 16, 64)        36928     \n",
            "_________________________________________________________________\n",
            "activation_33 (Activation)   (None, 16, 16, 64)        0         \n",
            "_________________________________________________________________\n",
            "conv2d_27 (Conv2D)           (None, 16, 16, 64)        36928     \n",
            "_________________________________________________________________\n",
            "activation_34 (Activation)   (None, 16, 16, 64)        0         \n",
            "_________________________________________________________________\n",
            "max_pooling2d_16 (MaxPooling (None, 8, 8, 64)          0         \n",
            "_________________________________________________________________\n",
            "conv2d_28 (Conv2D)           (None, 8, 8, 128)         73856     \n",
            "_________________________________________________________________\n",
            "activation_35 (Activation)   (None, 8, 8, 128)         0         \n",
            "_________________________________________________________________\n",
            "conv2d_29 (Conv2D)           (None, 8, 8, 128)         147584    \n",
            "_________________________________________________________________\n",
            "activation_36 (Activation)   (None, 8, 8, 128)         0         \n",
            "_________________________________________________________________\n",
            "conv2d_30 (Conv2D)           (None, 8, 8, 128)         147584    \n",
            "_________________________________________________________________\n",
            "activation_37 (Activation)   (None, 8, 8, 128)         0         \n",
            "_________________________________________________________________\n",
            "max_pooling2d_17 (MaxPooling (None, 4, 4, 128)         0         \n",
            "_________________________________________________________________\n",
            "flatten_7 (Flatten)          (None, 2048)              0         \n",
            "_________________________________________________________________\n",
            "dense_15 (Dense)             (None, 1024)              2098176   \n",
            "_________________________________________________________________\n",
            "activation_38 (Activation)   (None, 1024)              0         \n",
            "_________________________________________________________________\n",
            "dense_16 (Dense)             (None, 10)                10250     \n",
            "=================================================================\n",
            "Total params: 2,589,194\n",
            "Trainable params: 2,589,194\n",
            "Non-trainable params: 0\n",
            "_________________________________________________________________\n"
          ],
          "name": "stdout"
        }
      ]
    },
    {
      "metadata": {
        "id": "gonNGQGMej81",
        "colab": {
          "base_uri": "https://localhost:8080/",
          "height": 374
        },
        "outputId": "8772b370-c3fa-4ecf-dfc0-3dd712263652"
      },
      "cell_type": "code",
      "source": [
        "batch_size = 50\n",
        "nb_epoch = 10\n",
        "validation_split=0.1\n",
        "\n",
        "history = model.fit(X_train, Y_train, batch_size=batch_size, epochs=nb_epoch, verbose=1, validation_split=validation_split)\n"
      ],
      "execution_count": null,
      "outputs": [
        {
          "output_type": "stream",
          "text": [
            "Train on 45000 samples, validate on 5000 samples\n",
            "Epoch 1/10\n",
            "45000/45000 [==============================] - 35s 771us/step - loss: 1.6507 - acc: 0.3883 - val_loss: 1.3511 - val_acc: 0.5026\n",
            "Epoch 2/10\n",
            "45000/45000 [==============================] - 33s 741us/step - loss: 1.1897 - acc: 0.5718 - val_loss: 1.0287 - val_acc: 0.6382\n",
            "Epoch 3/10\n",
            "45000/45000 [==============================] - 33s 740us/step - loss: 0.9430 - acc: 0.6636 - val_loss: 0.9515 - val_acc: 0.6698\n",
            "Epoch 4/10\n",
            "45000/45000 [==============================] - 33s 740us/step - loss: 0.7764 - acc: 0.7267 - val_loss: 0.8195 - val_acc: 0.7190\n",
            "Epoch 5/10\n",
            "45000/45000 [==============================] - 33s 739us/step - loss: 0.6434 - acc: 0.7724 - val_loss: 0.7850 - val_acc: 0.7344\n",
            "Epoch 6/10\n",
            "45000/45000 [==============================] - 33s 738us/step - loss: 0.5316 - acc: 0.8130 - val_loss: 0.7858 - val_acc: 0.7462\n",
            "Epoch 7/10\n",
            "45000/45000 [==============================] - 33s 739us/step - loss: 0.4282 - acc: 0.8482 - val_loss: 0.8907 - val_acc: 0.7316\n",
            "Epoch 8/10\n",
            "45000/45000 [==============================] - 33s 731us/step - loss: 0.3458 - acc: 0.8771 - val_loss: 0.9936 - val_acc: 0.7270\n",
            "Epoch 9/10\n",
            "45000/45000 [==============================] - 33s 735us/step - loss: 0.2677 - acc: 0.9059 - val_loss: 1.1191 - val_acc: 0.7192\n",
            "Epoch 10/10\n",
            "45000/45000 [==============================] - 33s 735us/step - loss: 0.2320 - acc: 0.9188 - val_loss: 1.0529 - val_acc: 0.7492\n"
          ],
          "name": "stdout"
        }
      ]
    }
  ]
}