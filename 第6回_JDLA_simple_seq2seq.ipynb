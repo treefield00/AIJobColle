{
  "nbformat": 4,
  "nbformat_minor": 0,
  "metadata": {
    "colab": {
      "provenance": [],
      "include_colab_link": true
    },
    "kernelspec": {
      "name": "python3",
      "display_name": "Python 3"
    },
    "accelerator": "GPU"
  },
  "cells": [
    {
      "cell_type": "markdown",
      "metadata": {
        "id": "view-in-github",
        "colab_type": "text"
      },
      "source": [
        "<a href=\"https://colab.research.google.com/github/treefield00/AIJobColle/blob/main/%E7%AC%AC6%E5%9B%9E_JDLA_simple_seq2seq.ipynb\" target=\"_parent\"><img src=\"https://colab.research.google.com/assets/colab-badge.svg\" alt=\"Open In Colab\"/></a>"
      ]
    },
    {
      "metadata": {
        "id": "4KfqeIp4-3Ed",
        "colab": {
          "base_uri": "https://localhost:8080/",
          "height": 2864
        },
        "outputId": "f626011c-b3af-45bc-bb69-44e12e6b53a6"
      },
      "cell_type": "code",
      "source": [
        "import numpy as np\n",
        "from keras.models import Sequential\n",
        "from keras.layers.core import Dense, Activation, RepeatVector\n",
        "from keras.layers.recurrent import LSTM\n",
        "from keras.layers.wrappers import TimeDistributed\n",
        "from keras.optimizers import Adam\n",
        "from keras.callbacks import EarlyStopping\n",
        "from sklearn.model_selection import train_test_split\n",
        "from sklearn.utils import shuffle\n",
        "\n",
        "import matplotlib.pyplot as plt\n",
        "\n",
        "\n",
        "def n(digits=3):\n",
        "  number = ''\n",
        "  for i in range(np.random.randint(1, digits + 1)):\n",
        "    number += np.random.choice(list('0123456789'))\n",
        "  return int(number)\n",
        "\n",
        "\n",
        "def padding(chars, maxlen):\n",
        "  return chars + ' ' * (maxlen - len(chars))\n",
        "\n",
        "\n",
        "'''\n",
        "データの生成\n",
        "'''\n",
        "N = 20000\n",
        "N_train = int(N * 0.9)\n",
        "N_validation = N - N_train\n",
        "\n",
        "digits = 3  # 最大の桁数\n",
        "input_digits = digits * 2 + 1  # 例： 123+456\n",
        "output_digits = digits + 1  # 500+500 = 1000 以上で４桁になる\n",
        "\n",
        "added = set()\n",
        "questions = []\n",
        "answers = []\n",
        "\n",
        "while len(questions) < N:\n",
        "  a, b = n(), n()  # 適当な数を２つ生成\n",
        "\n",
        "  pair = tuple(sorted((a, b)))\n",
        "  if pair in added:\n",
        "    continue\n",
        "\n",
        "  question = '{}+{}'.format(a, b)\n",
        "  question = padding(question, input_digits)\n",
        "  answer = str(a + b)\n",
        "  answer = padding(answer, output_digits)\n",
        "\n",
        "  added.add(pair)\n",
        "  questions.append(question)\n",
        "  answers.append(answer)\n",
        "\n",
        "chars = '0123456789+ '\n",
        "char_indices = dict((c, i) for i, c in enumerate(chars))\n",
        "indices_char = dict((i, c) for i, c in enumerate(chars))\n",
        "\n",
        "X = np.zeros((len(questions), input_digits, len(chars)), dtype=np.integer)\n",
        "Y = np.zeros((len(questions), digits + 1, len(chars)), dtype=np.integer)\n",
        "\n",
        "for i in range(N):\n",
        "  for t, char in enumerate(questions[i]):\n",
        "    X[i, t, char_indices[char]] = 1\n",
        "  for t, char in enumerate(answers[i]):\n",
        "    Y[i, t, char_indices[char]] = 1\n",
        "\n",
        "X_train, X_validation, Y_train, Y_validation = \\\n",
        "    train_test_split(X, Y, train_size=N_train)\n",
        "\n",
        "'''\n",
        "モデル設定\n",
        "'''\n",
        "n_in = len(chars)\n",
        "n_hidden = 128\n",
        "n_out = len(chars)\n",
        "\n",
        "\n",
        "model = Sequential()\n",
        "\n",
        "# Encoder\n",
        "model.add(LSTM(n_hidden, input_shape=(input_digits, n_in)))\n",
        "\n",
        "# Decoder\n",
        "model.add(RepeatVector(output_digits))\n",
        "model.add(LSTM(n_hidden, return_sequences=True))\n",
        "\n",
        "model.add(TimeDistributed(Dense(n_out)))\n",
        "model.add(Activation('softmax'))\n",
        "model.compile(loss='categorical_crossentropy',\n",
        "              optimizer=Adam(lr=0.001,\n",
        "                             beta_1=0.9,\n",
        "                             beta_2=0.999),\n",
        "              metrics=['accuracy'])\n",
        "\n",
        "'''\n",
        "モデル学習\n",
        "'''\n",
        "epochs = 50\n",
        "batch_size = 200\n",
        "\n",
        "print(X_train.shape)\n",
        "print(Y_train.shape)\n",
        "h = model.fit(X_train, Y_train, batch_size=batch_size, epochs=epochs,\n",
        "              validation_data=(X_validation, Y_validation))\n",
        "\n",
        "# accuracy と validation accuracy の推移をプロットする\n",
        "plt.title('Accuracy')\n",
        "plt.ylim(0.0, 1.0)\n",
        "plt.plot(np.arange(len(h.history['acc'])), h.history['acc'], label='train')\n",
        "plt.plot(np.arange(len(h.history['acc'])), h.history['val_acc'], label='validation')\n",
        "plt.legend()\n",
        "plt.show()\n",
        "\n",
        "# 検証データからランダムに問題を選んで答え合わせ\n",
        "for i in range(10):\n",
        "  index = np.random.randint(0, N_validation)\n",
        "  question = X_validation[np.array([index])]\n",
        "  answer = Y_validation[np.array([index])]\n",
        "  prediction = model.predict_classes(question, verbose=0)\n",
        "\n",
        "  question = question.argmax(axis=-1)\n",
        "  answer = answer.argmax(axis=-1)\n",
        "\n",
        "  q = ''.join(indices_char[i] for i in question[0])\n",
        "  a = ''.join(indices_char[i] for i in answer[0])\n",
        "  p = ''.join(indices_char[i] for i in prediction[0])\n",
        "\n",
        "  print('-' * 10)\n",
        "  print('Q:  ', q)\n",
        "  print('A:  ', p)\n",
        "  print('T/F:', end=' ')\n",
        "  if a == p:\n",
        "    print('T')\n",
        "  else:\n",
        "    print('F')\n",
        "print('-' * 10)"
      ],
      "execution_count": null,
      "outputs": [
        {
          "output_type": "stream",
          "text": [
            "/usr/local/lib/python3.6/dist-packages/sklearn/model_selection/_split.py:2026: FutureWarning: From version 0.21, test_size will always complement train_size unless both are specified.\n",
            "  FutureWarning)\n"
          ],
          "name": "stderr"
        },
        {
          "output_type": "stream",
          "text": [
            "(18000, 7, 12)\n",
            "(18000, 4, 12)\n",
            "Train on 18000 samples, validate on 2000 samples\n",
            "Epoch 1/50\n",
            "18000/18000 [==============================] - 4s 220us/step - loss: 2.0354 - acc: 0.2897 - val_loss: 1.8084 - val_acc: 0.3531\n",
            "Epoch 2/50\n",
            "18000/18000 [==============================] - 3s 164us/step - loss: 1.7872 - acc: 0.3530 - val_loss: 1.7756 - val_acc: 0.3567\n",
            "Epoch 3/50\n",
            "18000/18000 [==============================] - 3s 167us/step - loss: 1.7670 - acc: 0.3584 - val_loss: 1.7605 - val_acc: 0.3542\n",
            "Epoch 4/50\n",
            "18000/18000 [==============================] - 3s 166us/step - loss: 1.7538 - acc: 0.3613 - val_loss: 1.7394 - val_acc: 0.3611\n",
            "Epoch 5/50\n",
            "14600/18000 [=======================>......] - ETA: 0s - loss: 1.7331 - acc: 0.3648"
          ],
          "name": "stdout"
        },
        {
          "output_type": "stream",
          "text": [
            "18000/18000 [==============================] - 3s 167us/step - loss: 1.7300 - acc: 0.3648 - val_loss: 1.7089 - val_acc: 0.3650\n",
            "Epoch 6/50\n",
            "18000/18000 [==============================] - 3s 165us/step - loss: 1.7029 - acc: 0.3712 - val_loss: 1.6903 - val_acc: 0.3792\n",
            "Epoch 7/50\n",
            "18000/18000 [==============================] - 3s 165us/step - loss: 1.6719 - acc: 0.3857 - val_loss: 1.6575 - val_acc: 0.3831\n",
            "Epoch 8/50\n",
            "18000/18000 [==============================] - 3s 165us/step - loss: 1.6382 - acc: 0.3974 - val_loss: 1.6183 - val_acc: 0.4035\n",
            "Epoch 9/50\n",
            "18000/18000 [==============================] - 3s 165us/step - loss: 1.6042 - acc: 0.4087 - val_loss: 1.5907 - val_acc: 0.4106\n",
            "Epoch 10/50\n",
            " 9000/18000 [==============>...............] - ETA: 1s - loss: 1.5755 - acc: 0.4171"
          ],
          "name": "stdout"
        },
        {
          "output_type": "stream",
          "text": [
            "18000/18000 [==============================] - 3s 165us/step - loss: 1.5669 - acc: 0.4207 - val_loss: 1.5713 - val_acc: 0.4218\n",
            "Epoch 11/50\n",
            "18000/18000 [==============================] - 3s 165us/step - loss: 1.5277 - acc: 0.4338 - val_loss: 1.4967 - val_acc: 0.4420\n",
            "Epoch 12/50\n",
            "18000/18000 [==============================] - 3s 165us/step - loss: 1.4739 - acc: 0.4535 - val_loss: 1.4792 - val_acc: 0.4471\n",
            "Epoch 13/50\n",
            "18000/18000 [==============================] - 3s 164us/step - loss: 1.4236 - acc: 0.4747 - val_loss: 1.4044 - val_acc: 0.4771\n",
            "Epoch 14/50\n",
            "18000/18000 [==============================] - 3s 166us/step - loss: 1.3672 - acc: 0.4967 - val_loss: 1.3510 - val_acc: 0.5018\n",
            "Epoch 15/50\n",
            " 8200/18000 [============>.................] - ETA: 1s - loss: 1.3301 - acc: 0.5066"
          ],
          "name": "stdout"
        },
        {
          "output_type": "stream",
          "text": [
            "18000/18000 [==============================] - 3s 166us/step - loss: 1.3150 - acc: 0.5146 - val_loss: 1.3045 - val_acc: 0.5132\n",
            "Epoch 16/50\n",
            "18000/18000 [==============================] - 3s 166us/step - loss: 1.2627 - acc: 0.5341 - val_loss: 1.2630 - val_acc: 0.5301\n",
            "Epoch 17/50\n",
            "18000/18000 [==============================] - 3s 169us/step - loss: 1.2251 - acc: 0.5482 - val_loss: 1.2425 - val_acc: 0.5405\n",
            "Epoch 18/50\n",
            "18000/18000 [==============================] - 3s 165us/step - loss: 1.1821 - acc: 0.5646 - val_loss: 1.1849 - val_acc: 0.5600\n",
            "Epoch 19/50\n",
            "18000/18000 [==============================] - 3s 165us/step - loss: 1.1448 - acc: 0.5766 - val_loss: 1.1629 - val_acc: 0.5643\n",
            "Epoch 20/50\n",
            " 7400/18000 [===========>..................] - ETA: 1s - loss: 1.1149 - acc: 0.5884"
          ],
          "name": "stdout"
        },
        {
          "output_type": "stream",
          "text": [
            "18000/18000 [==============================] - 3s 167us/step - loss: 1.1085 - acc: 0.5894 - val_loss: 1.1186 - val_acc: 0.5784\n",
            "Epoch 21/50\n",
            "18000/18000 [==============================] - 3s 167us/step - loss: 1.0759 - acc: 0.6024 - val_loss: 1.0876 - val_acc: 0.5911\n",
            "Epoch 22/50\n",
            "18000/18000 [==============================] - 3s 166us/step - loss: 1.0393 - acc: 0.6150 - val_loss: 1.0607 - val_acc: 0.5977\n",
            "Epoch 23/50\n",
            "18000/18000 [==============================] - 3s 166us/step - loss: 1.0074 - acc: 0.6279 - val_loss: 1.0403 - val_acc: 0.5995\n",
            "Epoch 24/50\n",
            "18000/18000 [==============================] - 3s 164us/step - loss: 0.9739 - acc: 0.6390 - val_loss: 0.9992 - val_acc: 0.6207\n",
            "Epoch 25/50\n",
            " 7800/18000 [============>.................] - ETA: 1s - loss: 0.9448 - acc: 0.6520"
          ],
          "name": "stdout"
        },
        {
          "output_type": "stream",
          "text": [
            "18000/18000 [==============================] - 3s 165us/step - loss: 0.9355 - acc: 0.6547 - val_loss: 0.9630 - val_acc: 0.6326\n",
            "Epoch 26/50\n",
            "18000/18000 [==============================] - 3s 165us/step - loss: 0.8970 - acc: 0.6672 - val_loss: 0.9276 - val_acc: 0.6428\n",
            "Epoch 27/50\n",
            "18000/18000 [==============================] - 3s 165us/step - loss: 0.8517 - acc: 0.6848 - val_loss: 0.8749 - val_acc: 0.6671\n",
            "Epoch 28/50\n",
            "18000/18000 [==============================] - 3s 163us/step - loss: 0.8005 - acc: 0.7047 - val_loss: 0.8279 - val_acc: 0.6809\n",
            "Epoch 29/50\n",
            "18000/18000 [==============================] - 3s 163us/step - loss: 0.7539 - acc: 0.7210 - val_loss: 0.7730 - val_acc: 0.7015\n",
            "Epoch 30/50\n",
            " 7800/18000 [============>.................] - ETA: 1s - loss: 0.7028 - acc: 0.7456"
          ],
          "name": "stdout"
        },
        {
          "output_type": "stream",
          "text": [
            "18000/18000 [==============================] - 3s 166us/step - loss: 0.7009 - acc: 0.7434 - val_loss: 0.7688 - val_acc: 0.6946\n",
            "Epoch 31/50\n",
            "18000/18000 [==============================] - 3s 166us/step - loss: 0.6545 - acc: 0.7622 - val_loss: 0.7043 - val_acc: 0.7294\n",
            "Epoch 32/50\n",
            "18000/18000 [==============================] - 3s 165us/step - loss: 0.6088 - acc: 0.7832 - val_loss: 0.6376 - val_acc: 0.7646\n",
            "Epoch 33/50\n",
            "18000/18000 [==============================] - 3s 167us/step - loss: 0.5686 - acc: 0.8004 - val_loss: 0.5983 - val_acc: 0.7819\n",
            "Epoch 34/50\n",
            "18000/18000 [==============================] - 3s 164us/step - loss: 0.5284 - acc: 0.8193 - val_loss: 0.5656 - val_acc: 0.7930\n",
            "Epoch 35/50\n",
            " 7000/18000 [==========>...................] - ETA: 1s - loss: 0.4997 - acc: 0.8310"
          ],
          "name": "stdout"
        },
        {
          "output_type": "stream",
          "text": [
            "18000/18000 [==============================] - 3s 166us/step - loss: 0.4950 - acc: 0.8324 - val_loss: 0.5337 - val_acc: 0.8076\n",
            "Epoch 36/50\n",
            "18000/18000 [==============================] - 3s 167us/step - loss: 0.4573 - acc: 0.8516 - val_loss: 0.4969 - val_acc: 0.8270\n",
            "Epoch 37/50\n",
            "18000/18000 [==============================] - 3s 164us/step - loss: 0.4206 - acc: 0.8709 - val_loss: 0.4606 - val_acc: 0.8455\n",
            "Epoch 38/50\n",
            "18000/18000 [==============================] - 3s 164us/step - loss: 0.3960 - acc: 0.8794 - val_loss: 0.4503 - val_acc: 0.8449\n",
            "Epoch 39/50\n",
            "18000/18000 [==============================] - 3s 165us/step - loss: 0.3717 - acc: 0.8896 - val_loss: 0.4185 - val_acc: 0.8610\n",
            "Epoch 40/50\n",
            " 7400/18000 [===========>..................] - ETA: 1s - loss: 0.3523 - acc: 0.8985"
          ],
          "name": "stdout"
        },
        {
          "output_type": "stream",
          "text": [
            "18000/18000 [==============================] - 3s 167us/step - loss: 0.3490 - acc: 0.8987 - val_loss: 0.3996 - val_acc: 0.8673\n",
            "Epoch 41/50\n",
            "18000/18000 [==============================] - 3s 165us/step - loss: 0.3324 - acc: 0.9023 - val_loss: 0.4000 - val_acc: 0.8615\n",
            "Epoch 42/50\n",
            "18000/18000 [==============================] - 3s 165us/step - loss: 0.3092 - acc: 0.9126 - val_loss: 0.3665 - val_acc: 0.8789\n",
            "Epoch 43/50\n",
            "18000/18000 [==============================] - 3s 165us/step - loss: 0.2914 - acc: 0.9183 - val_loss: 0.3424 - val_acc: 0.8879\n",
            "Epoch 44/50\n",
            "18000/18000 [==============================] - 3s 164us/step - loss: 0.2691 - acc: 0.9276 - val_loss: 0.3281 - val_acc: 0.8910\n",
            "Epoch 45/50\n",
            " 7400/18000 [===========>..................] - ETA: 1s - loss: 0.2558 - acc: 0.9307"
          ],
          "name": "stdout"
        },
        {
          "output_type": "stream",
          "text": [
            "18000/18000 [==============================] - 3s 164us/step - loss: 0.2545 - acc: 0.9320 - val_loss: 0.3070 - val_acc: 0.9004\n",
            "Epoch 46/50\n",
            "18000/18000 [==============================] - 3s 164us/step - loss: 0.2415 - acc: 0.9359 - val_loss: 0.3105 - val_acc: 0.8945\n",
            "Epoch 47/50\n",
            "18000/18000 [==============================] - 3s 163us/step - loss: 0.2289 - acc: 0.9386 - val_loss: 0.2871 - val_acc: 0.9071\n",
            "Epoch 48/50\n",
            "18000/18000 [==============================] - 3s 165us/step - loss: 0.2147 - acc: 0.9439 - val_loss: 0.2744 - val_acc: 0.9090\n",
            "Epoch 49/50\n",
            "18000/18000 [==============================] - 3s 165us/step - loss: 0.2033 - acc: 0.9479 - val_loss: 0.2669 - val_acc: 0.9106\n",
            "Epoch 50/50\n",
            " 7800/18000 [============>.................] - ETA: 1s - loss: 0.1963 - acc: 0.9497"
          ],
          "name": "stdout"
        },
        {
          "output_type": "stream",
          "text": [
            "18000/18000 [==============================] - 3s 163us/step - loss: 0.1981 - acc: 0.9475 - val_loss: 0.2580 - val_acc: 0.9185\n"
          ],
          "name": "stdout"
        },
        {
          "output_type": "display_data",
          "data": {
            "image/png": "[encoded data removed]",
            "text/plain": [
              "<matplotlib.figure.Figure at 0x7f74d2c30400>"
            ]
          },
          "metadata": {
            "tags": []
          }
        },
        {
          "output_type": "stream",
          "text": [
            "----------\n",
            "Q:   77+287 \n",
            "A:   364 \n",
            "T/F: T\n",
            "----------\n",
            "Q:   10+470 \n",
            "A:   480 \n",
            "T/F: T\n",
            "----------\n",
            "Q:   10+870 \n",
            "A:   890 \n",
            "T/F: F\n",
            "----------\n",
            "Q:   791+84 \n",
            "A:   875 \n",
            "T/F: T\n",
            "----------\n",
            "Q:   674+5  \n",
            "A:   679 \n",
            "T/F: T\n",
            "----------\n",
            "Q:   429+96 \n",
            "A:   526 \n",
            "T/F: F\n",
            "----------\n",
            "Q:   431+7  \n",
            "A:   438 \n",
            "T/F: T\n",
            "----------\n",
            "Q:   0+2    \n",
            "A:   2   \n",
            "T/F: T\n",
            "----------\n",
            "Q:   232+9  \n",
            "A:   241 \n",
            "T/F: T\n",
            "----------\n",
            "Q:   128+21 \n",
            "A:   149 \n",
            "T/F: T\n",
            "----------\n"
          ],
          "name": "stdout"
        }
      ]
    }
  ]
}